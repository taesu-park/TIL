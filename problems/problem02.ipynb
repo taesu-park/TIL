{
 "cells": [
  {
   "cell_type": "markdown",
   "metadata": {},
   "source": [
    "# 모든코인 상승장? 하락장?\n",
    "> 최고가와 최저가의 차이를 변동폭으로 정의할 때 (시가 + 변동폭)이 최고가 보다 높을 경우 \"상승장\", 그렇지 않은 경우 \"하락장\" 문자열을 출력하라.\n",
    "\n",
    "\n",
    "|Key Name|Description|\n",
    "|------|---|\n",
    "|opeing_price|최근 24시간 내 시작 거래금액|\n",
    "|closing_price|최근 24시간 내 마지막 거래금액|\n",
    "|min_price|최근 24시간 내 최저 거래금액|\n",
    "|max_price|최근 24시간 내 최고 거래금액|"
   ]
  },
  {
   "cell_type": "code",
   "execution_count": 56,
   "metadata": {},
   "outputs": [
    {
     "name": "stdout",
     "output_type": "stream",
     "text": [
      "상승장\n",
      "상승장\n",
      "상승장\n",
      "상승장\n",
      "상승장\n",
      "상승장\n",
      "상승장\n",
      "하락장\n",
      "상승장\n",
      "상승장\n",
      "상승장\n",
      "상승장\n",
      "상승장\n",
      "상승장\n",
      "상승장\n",
      "상승장\n",
      "상승장\n",
      "상승장\n",
      "상승장\n",
      "상승장\n",
      "상승장\n",
      "상승장\n",
      "상승장\n",
      "상승장\n",
      "하락장\n",
      "상승장\n",
      "상승장\n",
      "상승장\n",
      "상승장\n",
      "상승장\n",
      "하락장\n",
      "상승장\n",
      "상승장\n",
      "상승장\n",
      "상승장\n",
      "상승장\n",
      "상승장\n",
      "상승장\n",
      "상승장\n",
      "상승장\n",
      "상승장\n",
      "상승장\n",
      "상승장\n",
      "상승장\n",
      "상승장\n",
      "상승장\n",
      "상승장\n",
      "상승장\n",
      "상승장\n",
      "상승장\n",
      "상승장\n",
      "상승장\n",
      "상승장\n",
      "상승장\n",
      "상승장\n",
      "상승장\n",
      "상승장\n",
      "상승장\n",
      "상승장\n",
      "상승장\n",
      "상승장\n",
      "상승장\n",
      "상승장\n",
      "상승장\n",
      "상승장\n",
      "상승장\n",
      "상승장\n",
      "하락장\n",
      "상승장\n",
      "상승장\n",
      "상승장\n",
      "상승장\n",
      "상승장\n",
      "상승장\n",
      "상승장\n",
      "상승장\n",
      "상승장\n",
      "상승장\n",
      "상승장\n",
      "상승장\n",
      "상승장\n",
      "상승장\n",
      "상승장\n",
      "상승장\n",
      "상승장\n",
      "상승장\n",
      "상승장\n",
      "상승장\n"
     ]
    }
   ],
   "source": [
    "import requests\n",
    "url = \"https://api.bithumb.com/public/ticker/all\"\n",
    "data = requests.get(url).json()['data']\n",
    "for coin, value in data.items():\n",
    "    if coin == 'date':\n",
    "    # if type(value) != type(dict())\n",
    "        continue\n",
    "    if float(value['opening_price']) + float(value['max_price']) - float(value['min_price']) > float(value['max_price']):\n",
    "        print('상승장')\n",
    "    else:\n",
    "        print('하락장')"
   ]
  },
  {
   "cell_type": "markdown",
   "metadata": {},
   "source": [
    "# 평균점수\n",
    "> 다음 딕셔너리에서 평균 점수를 출력하라\n"
   ]
  },
  {
   "cell_type": "code",
   "execution_count": 3,
   "metadata": {},
   "outputs": [
    {
     "name": "stdout",
     "output_type": "stream",
     "text": [
      "83.25\n"
     ]
    }
   ],
   "source": [
    "student = {'python':80, 'algorithm':78, 'django':95, 'flask':80}\n",
    "count = 0\n",
    "s = 0\n",
    "for score in student.values():\n",
    "    s += score\n",
    "    count += 1\n",
    "avg = s / count\n",
    "print(avg)"
   ]
  },
  {
   "cell_type": "code",
   "execution_count": 4,
   "metadata": {},
   "outputs": [
    {
     "data": {
      "text/plain": [
       "83.25"
      ]
     },
     "execution_count": 4,
     "metadata": {},
     "output_type": "execute_result"
    }
   ],
   "source": [
    "sum(student.values()) / len(student)"
   ]
  },
  {
   "cell_type": "code",
   "execution_count": 71,
   "metadata": {},
   "outputs": [
    {
     "data": {
      "text/plain": [
       "[80, 78, 95, 80]"
      ]
     },
     "execution_count": 71,
     "metadata": {},
     "output_type": "execute_result"
    }
   ],
   "source": [
    "list(student.values())"
   ]
  },
  {
   "cell_type": "markdown",
   "metadata": {},
   "source": [
    "# 혈액형\n",
    "> 학생들의 혈액형(A,B,O,AB)에 대한 데이터가 리스트에 들어있다. 각 혈액형이 몇명인지 딕셔너리를 만들어 출력하라"
   ]
  },
  {
   "cell_type": "code",
   "execution_count": 83,
   "metadata": {},
   "outputs": [
    {
     "name": "stdout",
     "output_type": "stream",
     "text": [
      "{'A': 5, 'B': 2, 'AB': 3, 'O': 4}\n"
     ]
    }
   ],
   "source": [
    "blood = ['A','A','B','O','A','B','A','AB','AB','O','A','O','AB','O']\n",
    "a = 0\n",
    "b = 0\n",
    "ab = 0\n",
    "o = 0\n",
    "for bl in blood:\n",
    "    if bl == 'A':\n",
    "        a += 1\n",
    "    elif bl == 'B':\n",
    "        b += 1\n",
    "    elif bl == 'AB':\n",
    "        ab += 1\n",
    "    elif bl == 'O':\n",
    "        o += 1\n",
    "print({'A':a, 'B':b, 'AB':ab, 'O':o})"
   ]
  },
  {
   "cell_type": "code",
   "execution_count": 87,
   "metadata": {},
   "outputs": [
    {
     "name": "stdout",
     "output_type": "stream",
     "text": [
      "{'A': 5, 'B': 2, 'O': 4, 'AB': 3}\n"
     ]
    }
   ],
   "source": [
    "# 2번째 방법\n",
    "blood_dict = {}\n",
    "\n",
    "# (반복)하나씩 꺼내서 확인한다.\n",
    "for bl in blood:\n",
    "    # 지금 나온적이 없으면, 키와 value 1로 만든다.\n",
    "    if bl not in blood_dict.keys():\n",
    "        blood_dict[bl] = 1\n",
    "    else:\n",
    "        blood_dict[bl] += 1\n",
    "print(blood_dict)"
   ]
  },
  {
   "cell_type": "code",
   "execution_count": 88,
   "metadata": {},
   "outputs": [
    {
     "data": {
      "text/plain": [
       "{'AB': 3, 'A': 5, 'B': 2, 'O': 4}"
      ]
     },
     "execution_count": 88,
     "metadata": {},
     "output_type": "execute_result"
    }
   ],
   "source": [
    "{blood_type: blood.count(blood_type) for blood_type in set(blood)}"
   ]
  },
  {
   "cell_type": "markdown",
   "metadata": {},
   "source": [
    "# UBD\n",
    "> movies는 영화제목이 key로 누적관객수가 value인 딕셔너리이다. \n",
    ">\n",
    "> 자전차왕 엄복동의 누적관객수는 172212명이고 172212명을 1UBD라고 할때 80UBD를 넘지 못하는 영화를 출력하라."
   ]
  },
  {
   "cell_type": "code",
   "execution_count": 90,
   "metadata": {},
   "outputs": [
    {
     "name": "stdout",
     "output_type": "stream",
     "text": [
      "7번방의선물\n",
      "괴물\n",
      "도둑들\n",
      "베테랑\n",
      "아바타\n"
     ]
    }
   ],
   "source": [
    "movies = {\n",
    "    \"7번방의선물\":12811206,\n",
    "    \"괴물\":13019740,\n",
    "    \"국제시장\":14257115,\n",
    "    \"극한직업\":16261018,\n",
    "    \"도둑들\":12983330,\n",
    "    \"명량\":17613682,\n",
    "    \"베테랑\":13414009,\n",
    "    \"신과함께-죄와벌\":14410754,\n",
    "    \"아바타\":13624328,\n",
    "    \"어벤져스:엔드게임\":13901423,\n",
    "}\n",
    "\n",
    "UBD = 172212\n",
    "\n",
    "\n",
    "for movie, people in movies.items():\n",
    "    if people < 80*UBD:\n",
    "        print(movie)"
   ]
  },
  {
   "cell_type": "code",
   "execution_count": null,
   "metadata": {},
   "outputs": [],
   "source": []
  }
 ],
 "metadata": {
  "kernelspec": {
   "display_name": "Python 3",
   "language": "python",
   "name": "python3"
  },
  "language_info": {
   "codemirror_mode": {
    "name": "ipython",
    "version": 3
   },
   "file_extension": ".py",
   "mimetype": "text/x-python",
   "name": "python",
   "nbconvert_exporter": "python",
   "pygments_lexer": "ipython3",
   "version": "3.7.3"
  },
  "toc": {
   "base_numbering": 1,
   "nav_menu": {},
   "number_sections": true,
   "sideBar": true,
   "skip_h1_title": false,
   "title_cell": "Table of Contents",
   "title_sidebar": "Contents",
   "toc_cell": false,
   "toc_position": {},
   "toc_section_display": true,
   "toc_window_display": false
  }
 },
 "nbformat": 4,
 "nbformat_minor": 2
}
