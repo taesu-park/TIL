{
 "cells": [
  {
   "cell_type": "code",
   "execution_count": null,
   "metadata": {},
   "outputs": [],
   "source": [
    "with open('boxoffice.csv','r', encoding = 'utf-8') as f:\n",
    "    readr = csv.DictReader(f)\n",
    "    for row in reader:\n",
    "    movieCd = row['영화 대표코드']\n",
    "    api_url = f'http://www.kobis.or.kr/kobisopenapi/webservice/rest/movie/searchMovieInfo.json?key={key}&movieCd={movieCd}'\n",
    "    response = requests.get(api_url).json()"
   ]
  },
  {
   "cell_type": "code",
   "execution_count": null,
   "metadata": {},
   "outputs": [],
   "source": [
    "import datetime\n",
    "import requests\n",
    "import csv\n",
    "key = '2047d49e66779dd099ae7cc8e9d9bfd2'\n",
    "movie_data = {}\n",
    "for i in range (5):\n",
    "    targetDt = datetime.datetime(2019,7,13) - datetime.timedelta(weeks=i)\n",
    "    targetDt = targetDt.strftime('%Y%m%d') #yyyymmdd\n",
    "    api_url = f'http://www.kobis.or.kr/kobisopenapi/webservice/rest/boxoffice/searchWeeklyBoxOfficeList.json?key={key}&targetDt={targetDt}&weekGb=0'\n",
    "    response = requests.get(api_url).json()\n",
    "\n",
    "    for movie in response['boxOfficeResult']['weeklyBoxOfficeList']:\n",
    "        if movie.get('movieCd') not in movie_data:\n",
    "            movie_data[movie.get('movieCd')] = {\n",
    "            '영화코드': movie.get('movieCd'),\n",
    "            '누적관객수': movie.get('audiAcc'),\n",
    "            '영화이름': movie.get('movieNm')\n",
    "        }\n",
    "            \n",
    "\n",
    "with open('boxoffice.csv','w',encoding='utf-8') as f:\n",
    "    fieldnames = ['영화코드','누적관객수','영화이름'] # 여기만 변경\n",
    "    csv_writer = csv.DictWriter(f, fieldnames=fieldnames)\n",
    "    csv_writer.writeheader()\n",
    "    for item in movie_data.values():\n",
    "        csv_writer.writerow(item)\n",
    "        \n",
    "with open('boxoffice.csv','r', encoding = 'utf-8') as f:\n",
    "    readr = csv.DictReader(f)\n",
    "    for row in reader:\n",
    "    movieCd = row['영화 대표코드']\n",
    "    api_url = f'http://www.kobis.or.kr/kobisopenapi/webservice/rest/movie/searchMovieInfo.json?key={key}&movieCd={movieCd}'\n",
    "    response = requests.get(api_url).json()"
   ]
  },
  {
   "cell_type": "code",
   "execution_count": null,
   "metadata": {},
   "outputs": [],
   "source": []
  },
  {
   "cell_type": "code",
   "execution_count": null,
   "metadata": {},
   "outputs": [],
   "source": []
  },
  {
   "cell_type": "code",
   "execution_count": null,
   "metadata": {},
   "outputs": [],
   "source": []
  }
 ],
 "metadata": {
  "kernelspec": {
   "display_name": "Python 3",
   "language": "python",
   "name": "python3"
  },
  "language_info": {
   "codemirror_mode": {
    "name": "ipython",
    "version": 3
   },
   "file_extension": ".py",
   "mimetype": "text/x-python",
   "name": "python",
   "nbconvert_exporter": "python",
   "pygments_lexer": "ipython3",
   "version": "3.7.3"
  },
  "toc": {
   "base_numbering": 1,
   "nav_menu": {},
   "number_sections": true,
   "sideBar": true,
   "skip_h1_title": false,
   "title_cell": "Table of Contents",
   "title_sidebar": "Contents",
   "toc_cell": false,
   "toc_position": {},
   "toc_section_display": true,
   "toc_window_display": false
  }
 },
 "nbformat": 4,
 "nbformat_minor": 2
}
